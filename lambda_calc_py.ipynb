{
 "cells": [
  {
   "cell_type": "markdown",
   "metadata": {},
   "source": [
    "# Lambda Calculus\n",
    "Lambda calculus (also written as λ-calculus) is a formal system in mathematical logic for expressing computation based on function abstraction and application using variable binding and substitution. It is a universal model of computation that can be used to simulate any Turing machine. (i.e. it is turing complete). It was first introduced by mathematician Alonzo Church in the 1930s as part of his research of the foundations of mathematics [(wikipedia)](https://en.wikipedia.org/wiki/Lambda_calculus).\n",
    "\n",
    "Our goal in this notebook will be to implement an untyped λ-calculus with [Church Encodings](https://en.wikipedia.org/wiki/Church_encoding).\n",
    "\n",
    "## Detour: Python Lambdas\n",
    "In computer programming, an anonymous function (function literal, lambda abstraction, or lambda expression) is a function definition that is not bound to an identifier. Anonymous functions are often arguments being passed to higher-order functions, or used for constructing the result of a higher-order function that needs to return a function. If the function is only used once, or a limited number of times, an anonymous function may be syntactically lighter than using a named function. Anonymous functions are ubiquitous in functional programming languages and other languages with first-class functions, where they fulfill the same role for the function type as literals do for other data types [(wikipedia)](https://en.wikipedia.org/wiki/Anonymous_function).\n",
    "\n",
    "In python, the simplest lambda can be created as follows:"
   ]
  },
  {
   "cell_type": "code",
   "execution_count": 1,
   "metadata": {},
   "outputs": [
    {
     "data": {
      "text/plain": [
       "<function __main__.<lambda>>"
      ]
     },
     "execution_count": 1,
     "metadata": {},
     "output_type": "execute_result"
    }
   ],
   "source": [
    "lambda x: 0"
   ]
  },
  {
   "cell_type": "markdown",
   "metadata": {},
   "source": [
    "In this expression `lambda` declares the function. The `x` represents the input argument of the function. The expression that appears after the colon represents the output of the function. In this case 0 will be the output regardless of input. This can be seen by calling the function on different inputs."
   ]
  },
  {
   "cell_type": "code",
   "execution_count": 2,
   "metadata": {},
   "outputs": [
    {
     "name": "stdout",
     "output_type": "stream",
     "text": [
      "0\n",
      "0\n"
     ]
    }
   ],
   "source": [
    "print (lambda x: 0)(0)\n",
    "print (lambda x: 0)(1)"
   ]
  },
  {
   "cell_type": "markdown",
   "metadata": {},
   "source": [
    "Alternatively, we can bind this function to an identifier and use it anywhere in our code, just like a normal function."
   ]
  },
  {
   "cell_type": "code",
   "execution_count": 3,
   "metadata": {},
   "outputs": [
    {
     "name": "stdout",
     "output_type": "stream",
     "text": [
      "0\n"
     ]
    }
   ],
   "source": [
    "zero = lambda x: 0\n",
    "print zero(10000)"
   ]
  },
  {
   "cell_type": "markdown",
   "metadata": {},
   "source": [
    "However, we can make more interesting lambda expression but actually manipulating the input. For example we can multiple the input by 2"
   ]
  },
  {
   "cell_type": "code",
   "execution_count": 4,
   "metadata": {},
   "outputs": [
    {
     "name": "stdout",
     "output_type": "stream",
     "text": [
      "4\n",
      "8\n"
     ]
    }
   ],
   "source": [
    "double = lambda x: x*2\n",
    "print double(2)\n",
    "print double(4)"
   ]
  },
  {
   "cell_type": "markdown",
   "metadata": {},
   "source": [
    "Lambda expressions in python support multiple arguments, such as"
   ]
  },
  {
   "cell_type": "code",
   "execution_count": 5,
   "metadata": {},
   "outputs": [
    {
     "data": {
      "text/plain": [
       "12"
      ]
     },
     "execution_count": 5,
     "metadata": {},
     "output_type": "execute_result"
    }
   ],
   "source": [
    "add = lambda x, y: x + y\n",
    "add(5,7)"
   ]
  },
  {
   "cell_type": "markdown",
   "metadata": {},
   "source": [
    "However, as we shall see, lambda calculus does not support this so we will implement a technique known as [currying](https://en.wikipedia.org/wiki/Currying). The basic concept of currying is converting a multiple-argument function into a sequence of single argument functions. This can be done easily in python as follows,"
   ]
  },
  {
   "cell_type": "code",
   "execution_count": 6,
   "metadata": {},
   "outputs": [
    {
     "data": {
      "text/plain": [
       "12"
      ]
     },
     "execution_count": 6,
     "metadata": {},
     "output_type": "execute_result"
    }
   ],
   "source": [
    "add = lambda x: lambda y: x + y\n",
    "add(5)(7)"
   ]
  },
  {
   "cell_type": "markdown",
   "metadata": {},
   "source": [
    "Note: the syntax of how we call the function changes. We must call the function once per argument. In fact, our `lambda x` function is a function that returns a function. To see this we can call the function with only one argument."
   ]
  },
  {
   "cell_type": "code",
   "execution_count": 7,
   "metadata": {},
   "outputs": [
    {
     "name": "stdout",
     "output_type": "stream",
     "text": [
      "<function <lambda> at 0x7ff00044fcf8>\n",
      "12\n"
     ]
    }
   ],
   "source": [
    "add_5 = add(5)\n",
    "print add_5\n",
    "print add_5(7)"
   ]
  },
  {
   "cell_type": "markdown",
   "metadata": {},
   "source": [
    "Functions that return other functions are known as [higher-order functions, functionals, or functors](https://en.wikipedia.org/wiki/Higher-order_function). This is a central idea in the lambda calculus and will be used extensively throughout this document."
   ]
  },
  {
   "cell_type": "markdown",
   "metadata": {},
   "source": [
    "## Lambda Calculus\n",
    "\n",
    "Formally, the lambda calculus can be defined as follows\n",
    "\n",
    "* a set of variables $x, y, z$ ...\n",
    "* an abstraction symbol $\\lambda$ together with .\n",
    "* parenthesis ()\n",
    "\n",
    "The lambda calculus is then defined inductively using these building-blocks. Let $\\wedge$ represent all valid lambda expressions.\n",
    "\n",
    "1. if $x$ is a variable then $x \\in \\wedge$\n",
    "2. if $x$ is a variable and $M \\in \\wedge$ then $(\\lambda x. M) \\in \\wedge$ (abstraction operator)\n",
    "3. if $M, N \\in \\wedge$ then $(M N) \\in \\wedge$ (application operator)\n",
    "\n",
    "This is all that is required for lambda calculus! You're probably saying at this point, \"that this definition is hopelessly abstract there is no way that I could do anything with that language.\" So, let's start out with some of the simplest elements of the lambda calculus. Doing so, we will also follow standard conventions for lambda calculus which are\n",
    "\n",
    "* Outermost parentheses are dropped: $M N$ instead of $(M N)$\n",
    "* Applications are assumed to be left associative: $M N P$ may be written instead of $((M N) P)$\n",
    "* The body of an abstraction extends as far right as possible: $\\lambda x.M N$ means $\\lambda x.(M N)$ and not $(\\lambda x.M) N$\n",
    "\n",
    "Since, $x \\in \\wedge$ by axiom 1, we have that $(\\lambda x. x) \\in \\wedge$ by axiom 2. This is the simplest lambda function you can write in the untyped lambda calculus. The function is typically called the identity and is denoted by\n",
    "$$ id = \\lambda x.x $$\n",
    "The python equivalent is"
   ]
  },
  {
   "cell_type": "code",
   "execution_count": 8,
   "metadata": {},
   "outputs": [],
   "source": [
    "Id = lambda x: x"
   ]
  },
  {
   "cell_type": "markdown",
   "metadata": {},
   "source": [
    "Suppose $y \\in \\wedge$ is another variable, then we can apply axiom 3 to see that\n",
    "$$ id\\ y = \\lambda x.x\\ y = y$$\n",
    "In python,"
   ]
  },
  {
   "cell_type": "code",
   "execution_count": 9,
   "metadata": {},
   "outputs": [
    {
     "data": {
      "text/plain": [
       "'some lambda expression'"
      ]
     },
     "execution_count": 9,
     "metadata": {},
     "output_type": "execute_result"
    }
   ],
   "source": [
    "y = \"some lambda expression\"\n",
    "Id(y)"
   ]
  },
  {
   "cell_type": "markdown",
   "metadata": {},
   "source": [
    "Now, you might say \"hey you cheated! you started off with `y` a string, and that wasn't a lambda expression\". You are correct, so now let's start from the very beginning."
   ]
  },
  {
   "cell_type": "markdown",
   "metadata": {},
   "source": [
    "## Booleans and Logic\n",
    "\n",
    "Since we want to avoid using types like python's `True` and `False`, we must make our own functional notions of what it means to be true or false. We will define `True` and `False` as follows\n",
    "\n",
    "$$ True = \\lambda x. \\lambda y. x$$\n",
    "$$ False = \\lambda x. \\lambda y. y$$\n",
    "\n",
    "Now those expresions make look totally contrived, but if we think about it from the perspective of control flow and the `if else` statement, we realize that it aligns very well with how we would like `if else` to behave. $True$ takes in two options and choses the first, just like an `if else` evaluating the `if` block when a statement is true. $False$ on the other hand takes in two options and choses the second, just like an `if else` evaluating the `else` block when a statement is false. In python we have"
   ]
  },
  {
   "cell_type": "code",
   "execution_count": 10,
   "metadata": {},
   "outputs": [],
   "source": [
    "true = lambda x: lambda y: x\n",
    "false = lambda x: lambda y: y"
   ]
  },
  {
   "cell_type": "markdown",
   "metadata": {},
   "source": [
    "We will also create a little helper python function to make readable output for booleans. But this is strictly for python and not part of the lambda calculus."
   ]
  },
  {
   "cell_type": "code",
   "execution_count": 11,
   "metadata": {},
   "outputs": [
    {
     "name": "stdout",
     "output_type": "stream",
     "text": [
      "True\n",
      "False\n"
     ]
    }
   ],
   "source": [
    "to_py_bool = lambda x: True if x == true else False\n",
    "print to_py_bool(true)\n",
    "print to_py_bool(false)"
   ]
  },
  {
   "cell_type": "markdown",
   "metadata": {},
   "source": [
    "Now we would like to implement some type of logic. Let's first start with \"and\".\n",
    "\n",
    "$$ And = \\lambda p. \\lambda q. p q p $$\n",
    "\n",
    "We observe that if $p$ is $True$ then we will go ahead and test $q$,\n",
    "\n",
    "$$ True\\ q\\ True = \\lambda x. \\lambda y.x\\ (q) (True) = q $$\n",
    "\n",
    "In this case we would choose either $True$ or $False$ based on q.\n",
    "\n",
    "Similarly, if $p$ if $False$ then we automatically choose $p$ which is $False$ \n",
    "\n",
    "$$ False\\ q\\ False = \\lambda x. \\lambda y.y\\ (q)(False) = False $$\n",
    "\n",
    "If you're not convinced, we can implement it in python and check the truth table."
   ]
  },
  {
   "cell_type": "code",
   "execution_count": 12,
   "metadata": {},
   "outputs": [
    {
     "name": "stdout",
     "output_type": "stream",
     "text": [
      "True\n",
      "False\n",
      "False\n",
      "False\n"
     ]
    }
   ],
   "source": [
    "And = lambda p: lambda q: p(q)(p)\n",
    "\n",
    "print to_py_bool(And(true)(true))\n",
    "print to_py_bool(And(true)(false))\n",
    "print to_py_bool(And(false)(true))\n",
    "print to_py_bool(And(false)(false))"
   ]
  },
  {
   "cell_type": "markdown",
   "metadata": {},
   "source": [
    "Now let us definte \"Or\"\n",
    "\n",
    "$$ Or = \\lambda p. \\lambda q. p p q $$\n",
    "\n",
    "We observe that if $p$ is $True$ then we will go ahead and chose $p$,\n",
    "\n",
    "$$ True\\ True\\ q = \\lambda x. \\lambda y.x\\ (True) (q) = True $$\n",
    "\n",
    "Similarly, if $p$ if $False$ then we go ahead and test $q$\n",
    "\n",
    "$$ False\\ False\\ q = \\lambda x. \\lambda y.y\\ (False)(q) = q $$\n",
    "\n",
    "Let's implement it in python and check the truth table."
   ]
  },
  {
   "cell_type": "code",
   "execution_count": 13,
   "metadata": {},
   "outputs": [
    {
     "name": "stdout",
     "output_type": "stream",
     "text": [
      "True\n",
      "True\n",
      "True\n",
      "False\n"
     ]
    }
   ],
   "source": [
    "Or = lambda p: lambda q: p(p)(q)\n",
    "\n",
    "print to_py_bool(Or(true)(true))\n",
    "print to_py_bool(Or(true)(false))\n",
    "print to_py_bool(Or(false)(true))\n",
    "print to_py_bool(Or(false)(false))"
   ]
  },
  {
   "cell_type": "markdown",
   "metadata": {},
   "source": [
    "To complete the basic boolean operators, we need a Not operator.\n",
    "\n",
    "$$ Not = \\lambda p. p False True $$\n",
    "\n",
    "This is fairly straight-forward. If p is $True$ you will choose $False$\n",
    "\n",
    "$$ True\\ False\\ True = \\lambda x. \\lambda y. x\\ (False)(True) = False $$\n",
    "\n",
    "and If p is $False$ you will choose $True$.\n",
    "\n",
    "$$ False\\ False\\ True = \\lambda x. \\lambda y. y\\ (False)(True) = True $$\n",
    "\n",
    "Let's implement it in python"
   ]
  },
  {
   "cell_type": "code",
   "execution_count": 14,
   "metadata": {},
   "outputs": [
    {
     "name": "stdout",
     "output_type": "stream",
     "text": [
      "False\n",
      "True\n"
     ]
    }
   ],
   "source": [
    "Not = lambda p: p(false)(true)\n",
    "\n",
    "print to_py_bool(Not(true))\n",
    "print to_py_bool(Not(false))"
   ]
  },
  {
   "cell_type": "markdown",
   "metadata": {},
   "source": [
    "Now we can create more complicated expressions like \"Nand\" and \"Xor\"\n",
    "\n",
    "$$ Nand = \\lambda p.\\lambda q.Not(And(p)(q)) $$\n",
    "\n",
    "$$ Xor = \\lambda p.\\lambda q.p(Not(q))(q)$$\n",
    "\n",
    "Let's check the python"
   ]
  },
  {
   "cell_type": "code",
   "execution_count": 15,
   "metadata": {},
   "outputs": [
    {
     "name": "stdout",
     "output_type": "stream",
     "text": [
      "False\n",
      "True\n",
      "True\n",
      "True\n"
     ]
    }
   ],
   "source": [
    "Nand = lambda p: lambda q: Not(And(p)(q))\n",
    "\n",
    "print to_py_bool(Nand(true)(true))\n",
    "print to_py_bool(Nand(true)(false))\n",
    "print to_py_bool(Nand(false)(true))\n",
    "print to_py_bool(Nand(false)(false))"
   ]
  },
  {
   "cell_type": "code",
   "execution_count": 16,
   "metadata": {},
   "outputs": [
    {
     "name": "stdout",
     "output_type": "stream",
     "text": [
      "False\n",
      "True\n",
      "True\n",
      "False\n"
     ]
    }
   ],
   "source": [
    "Xor = lambda p: lambda q: p(Not(q))(q)\n",
    "\n",
    "print to_py_bool(Xor(true)(true))\n",
    "print to_py_bool(Xor(true)(false))\n",
    "print to_py_bool(Xor(false)(true))\n",
    "print to_py_bool(Xor(false)(false))"
   ]
  },
  {
   "cell_type": "markdown",
   "metadata": {},
   "source": [
    "Now we have all the tools to create arbitrarily complex boolean expressions in the lambda calculus. We simply do this by making new lambda functions combining the functions that we currently have."
   ]
  },
  {
   "cell_type": "code",
   "execution_count": null,
   "metadata": {},
   "outputs": [],
   "source": []
  }
 ],
 "metadata": {
  "kernelspec": {
   "display_name": "Python 2",
   "language": "python",
   "name": "python2"
  },
  "language_info": {
   "codemirror_mode": {
    "name": "ipython",
    "version": 2
   },
   "file_extension": ".py",
   "mimetype": "text/x-python",
   "name": "python",
   "nbconvert_exporter": "python",
   "pygments_lexer": "ipython2",
   "version": "2.7.12"
  }
 },
 "nbformat": 4,
 "nbformat_minor": 2
}
